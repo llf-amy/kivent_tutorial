{
 "cells": [
  {
   "cell_type": "markdown",
   "metadata": {
    "collapsed": true
   },
   "source": [
    "## Kivent Tutorial\n",
    "### Part 1: Setting up and App\n",
    "https://github.com/kivy/kivent/wiki/Getting-Started-1:-Setting-Up-an-App\n",
    "\n",
    "Start with the boilerplate debug code. "
   ]
  },
  {
   "cell_type": "code",
   "execution_count": null,
   "metadata": {
    "collapsed": false
   },
   "outputs": [],
   "source": [
    "%%file debug.kv\n",
    "#:import random random\n",
    "    \n",
    "<Widget>:\n",
    "    canvas.after:\n",
    "        Color:\n",
    "            rgba: 1,1,1,.5\n",
    "        Line:\n",
    "            rectangle: self.x, self.y, self.width, self.height\n",
    "            width: 2\n",
    "                \n",
    "<DebugLabel@Button>:\n",
    "    size: self.parent.size\n",
    "    pos: self.parent.pos\n",
    "    background_color: random.random(), random.random(), random.random(), 0.6\n",
    "    text: 'debuglabel'"
   ]
  },
  {
   "cell_type": "markdown",
   "metadata": {},
   "source": [
    "Now make a default kivy app consisting of `main.py` and `yourappname.kv`. (Note the reference to `debug.kv` in `yourappname.kv` and the debug label)."
   ]
  },
  {
   "cell_type": "code",
   "execution_count": null,
   "metadata": {
    "collapsed": false
   },
   "outputs": [],
   "source": [
    "%%file main.py\n",
    "from kivy.app import App\n",
    "from kivy.uix.widget import Widget\n",
    "\n",
    "class TestGame(Widget):\n",
    "    pass\n",
    "\n",
    "class YourAppNameApp(App):\n",
    "    def build(self):\n",
    "        pass\n",
    "    \n",
    "if __name__ == '__main__':\n",
    "    YourAppNameApp().run()"
   ]
  },
  {
   "cell_type": "code",
   "execution_count": null,
   "metadata": {
    "collapsed": false
   },
   "outputs": [],
   "source": [
    "%%file yourappname.kv\n",
    "#:include debug.kv\n",
    "#:kivy 1.9.0\n",
    "\n",
    "TestGame:\n",
    "\n",
    "<TestGame>:\n",
    "    DebugLabel:\n",
    "        text: \"testgame\""
   ]
  },
  {
   "cell_type": "code",
   "execution_count": null,
   "metadata": {
    "collapsed": false
   },
   "outputs": [],
   "source": [
    "# run your app\n",
    "!python main.py"
   ]
  },
  {
   "cell_type": "markdown",
   "metadata": {},
   "source": [
    "Now check out two different ways to do the **exact same thing** with different instantiation code. "
   ]
  },
  {
   "cell_type": "code",
   "execution_count": null,
   "metadata": {
    "collapsed": false
   },
   "outputs": [],
   "source": [
    "%%file main.py\n",
    "from kivy.app import App\n",
    "from kivy.uix.widget import Widget\n",
    "\n",
    "class TestGame(Widget):\n",
    "    pass\n",
    "\n",
    "class YourAppNameApp(App):\n",
    "    def build(self):\n",
    "        return TestGame() ## change this from pass\n",
    "    \n",
    "if __name__ == '__main__':\n",
    "    YourAppNameApp().run()"
   ]
  },
  {
   "cell_type": "code",
   "execution_count": null,
   "metadata": {
    "collapsed": false
   },
   "outputs": [],
   "source": [
    "%%file yourappname.kv\n",
    "#:include debug.kv\n",
    "#:kivy 1.9.0\n",
    "\n",
    "## Deleted the refernce to TestGame as the root widget\n",
    "\n",
    "<TestGame>:\n",
    "    DebugLabel:\n",
    "        text: \"testgame\""
   ]
  },
  {
   "cell_type": "code",
   "execution_count": null,
   "metadata": {
    "collapsed": false
   },
   "outputs": [],
   "source": [
    "# run your app. you should get the same thing. \n",
    "!python main.py"
   ]
  },
  {
   "cell_type": "code",
   "execution_count": null,
   "metadata": {
    "collapsed": false
   },
   "outputs": [],
   "source": [
    "%%file main.py\n",
    "from kivy.app import App\n",
    "from kivy.uix.widget import Widget\n",
    "\n",
    "# The TestGame class is now completely defined in the .kv file\n",
    "\n",
    "class YourAppNameApp(App):\n",
    "    def build(self):\n",
    "        pass\n",
    "    \n",
    "if __name__ == '__main__':\n",
    "    YourAppNameApp().run()"
   ]
  },
  {
   "cell_type": "code",
   "execution_count": null,
   "metadata": {
    "collapsed": false
   },
   "outputs": [],
   "source": [
    "%%file yourappname.kv\n",
    "#:include debug.kv\n",
    "#:kivy 1.9.0\n",
    "\n",
    "TestGame:\n",
    "    \n",
    "<TestGame@Widget>: ## adding makes TestGame a Widget class\n",
    "    DebugLabel:\n",
    "        text: \"testgame\""
   ]
  },
  {
   "cell_type": "code",
   "execution_count": null,
   "metadata": {
    "collapsed": false
   },
   "outputs": [],
   "source": [
    "# run it again\n",
    "!python main.py"
   ]
  },
  {
   "cell_type": "markdown",
   "metadata": {},
   "source": [
    "Now in pure python with no .kv file...hmmmm...later. "
   ]
  },
  {
   "cell_type": "markdown",
   "metadata": {},
   "source": [
    "## Time to add some kivent\n",
    "We'll go back to the first version of default app. "
   ]
  },
  {
   "cell_type": "code",
   "execution_count": null,
   "metadata": {
    "collapsed": false
   },
   "outputs": [],
   "source": [
    "%%file main.py\n",
    "from kivy.app import App\n",
    "from kivy.uix.widget import Widget\n",
    "import kivent_core ## add this import statement to kivent\n",
    "\n",
    "class TestGame(Widget):\n",
    "    pass\n",
    "\n",
    "class YourAppNameApp(App):\n",
    "    def build(self):\n",
    "        pass\n",
    "    \n",
    "if __name__ == '__main__':\n",
    "    YourAppNameApp().run()"
   ]
  },
  {
   "cell_type": "markdown",
   "metadata": {},
   "source": [
    "First add the `GameWorld` Widget that will manage the game data."
   ]
  },
  {
   "cell_type": "code",
   "execution_count": null,
   "metadata": {
    "collapsed": false
   },
   "outputs": [],
   "source": [
    "%%file yourappname.kv\n",
    "#:include debug.kv\n",
    "#:kivy 1.9.0\n",
    "\n",
    "TestGame:\n",
    "\n",
    "<TestGame@Widget>: ## adding @Widget makes this the root widget\n",
    "    gameworld: _gameworld  ##reference to GameWorld id\n",
    "    DebugLabel:\n",
    "        text: \"testgame\"\n",
    "    GameWorld:\n",
    "        id: _gameworld\n",
    "        size_of_gameworld: 100*1024 ## required see explanation\n",
    "        size_of_entity_block: 128 ## required see explanation\n",
    "        system_count: 8 ## max number of GameSystems with components\n",
    "        zones: {'general':10000}\n",
    "        DebugLabel:\n",
    "            text: \"gameworld\""
   ]
  },
  {
   "cell_type": "code",
   "execution_count": null,
   "metadata": {
    "collapsed": false
   },
   "outputs": [],
   "source": [
    "#!python main.py"
   ]
  },
  {
   "cell_type": "code",
   "execution_count": null,
   "metadata": {
    "collapsed": true
   },
   "outputs": [],
   "source": [
    "%load yourappname.kv"
   ]
  },
  {
   "cell_type": "code",
   "execution_count": null,
   "metadata": {
    "collapsed": true
   },
   "outputs": [],
   "source": [
    "%load main.py"
   ]
  }
 ],
 "metadata": {
  "kernelspec": {
   "display_name": "Python 2",
   "language": "python",
   "name": "python2"
  },
  "language_info": {
   "codemirror_mode": {
    "name": "ipython",
    "version": 2
   },
   "file_extension": ".py",
   "mimetype": "text/x-python",
   "name": "python",
   "nbconvert_exporter": "python",
   "pygments_lexer": "ipython2",
   "version": "2.7.11"
  }
 },
 "nbformat": 4,
 "nbformat_minor": 0
}
