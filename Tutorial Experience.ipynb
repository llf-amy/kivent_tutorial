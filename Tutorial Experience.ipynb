{
 "cells": [
  {
   "cell_type": "markdown",
   "metadata": {
    "collapsed": true
   },
   "source": [
    "## Kivent Tutorial\n",
    "### Part 1: Setting up and App\n",
    "https://github.com/kivy/kivent/wiki/Getting-Started-1:-Setting-Up-an-App\n",
    "\n",
    "Start with the boilerplate debug code. "
   ]
  },
  {
   "cell_type": "code",
   "execution_count": null,
   "metadata": {
    "collapsed": false
   },
   "outputs": [],
   "source": [
    "%%file debug.kv\n",
    "#:import random random\n",
    "    \n",
    "<Widget>:\n",
    "    canvas.after:\n",
    "        Color:\n",
    "            rgba: 1,1,1,.5\n",
    "        Line:\n",
    "            rectangle: self.x, self.y, self.width, self.height\n",
    "            width: 2\n",
    "                \n",
    "<DebugLabel@Button>:\n",
    "    size: self.parent.size\n",
    "    pos: self.parent.pos\n",
    "    background_color: random.random(), random.random(), random.random(), 0.6\n",
    "    text: 'debuglabel'"
   ]
  },
  {
   "cell_type": "markdown",
   "metadata": {},
   "source": [
    "Now make a default kivy app consisting of `main.py` and `yourappname.kv`. (Note the reference to `debug.kv` in `yourappname.kv` and the debug label)."
   ]
  },
  {
   "cell_type": "code",
   "execution_count": null,
   "metadata": {
    "collapsed": false
   },
   "outputs": [],
   "source": [
    "%%file main.py\n",
    "from kivy.app import App\n",
    "from kivy.uix.widget import Widget\n",
    "\n",
    "class TestGame(Widget):\n",
    "    pass\n",
    "\n",
    "class YourAppNameApp(App):\n",
    "    def build(self):\n",
    "        pass\n",
    "    \n",
    "if __name__ == '__main__':\n",
    "    YourAppNameApp().run()"
   ]
  },
  {
   "cell_type": "code",
   "execution_count": null,
   "metadata": {
    "collapsed": false
   },
   "outputs": [],
   "source": [
    "%%file yourappname.kv\n",
    "#:include debug.kv\n",
    "#:kivy 1.9.0\n",
    "\n",
    "TestGame:\n",
    "\n",
    "<TestGame>:\n",
    "    DebugLabel:\n",
    "        text: \"testgame\""
   ]
  },
  {
   "cell_type": "code",
   "execution_count": null,
   "metadata": {
    "collapsed": false
   },
   "outputs": [],
   "source": [
    "# run your app\n",
    "!python main.py"
   ]
  },
  {
   "cell_type": "markdown",
   "metadata": {},
   "source": [
    "Now check out two different ways to do the **exact same thing** with different instantiation code. "
   ]
  },
  {
   "cell_type": "code",
   "execution_count": null,
   "metadata": {
    "collapsed": false
   },
   "outputs": [],
   "source": [
    "%%file main.py\n",
    "from kivy.app import App\n",
    "from kivy.uix.widget import Widget\n",
    "\n",
    "class TestGame(Widget):\n",
    "    pass\n",
    "\n",
    "class YourAppNameApp(App):\n",
    "    def build(self):\n",
    "        return TestGame() ## change this from pass\n",
    "    \n",
    "if __name__ == '__main__':\n",
    "    YourAppNameApp().run()"
   ]
  },
  {
   "cell_type": "code",
   "execution_count": null,
   "metadata": {
    "collapsed": false
   },
   "outputs": [],
   "source": [
    "%%file yourappname.kv\n",
    "#:include debug.kv\n",
    "#:kivy 1.9.0\n",
    "\n",
    "## Deleted the refernce to TestGame as the root widget\n",
    "\n",
    "<TestGame>:\n",
    "    DebugLabel:\n",
    "        text: \"testgame\""
   ]
  },
  {
   "cell_type": "code",
   "execution_count": null,
   "metadata": {
    "collapsed": false
   },
   "outputs": [],
   "source": [
    "# run your app. you should get the same thing. \n",
    "!python main.py"
   ]
  },
  {
   "cell_type": "code",
   "execution_count": null,
   "metadata": {
    "collapsed": false
   },
   "outputs": [],
   "source": [
    "%%file main.py\n",
    "from kivy.app import App\n",
    "from kivy.uix.widget import Widget\n",
    "\n",
    "# The TestGame class is now completely defined in the .kv file\n",
    "\n",
    "class YourAppNameApp(App):\n",
    "    def build(self):\n",
    "        pass\n",
    "    \n",
    "if __name__ == '__main__':\n",
    "    YourAppNameApp().run()"
   ]
  },
  {
   "cell_type": "code",
   "execution_count": null,
   "metadata": {
    "collapsed": false
   },
   "outputs": [],
   "source": [
    "%%file yourappname.kv\n",
    "#:include debug.kv\n",
    "#:kivy 1.9.0\n",
    "\n",
    "TestGame:\n",
    "    \n",
    "<TestGame@Widget>: ## adding makes TestGame a Widget class\n",
    "    DebugLabel:\n",
    "        text: \"testgame\""
   ]
  },
  {
   "cell_type": "code",
   "execution_count": null,
   "metadata": {
    "collapsed": false
   },
   "outputs": [],
   "source": [
    "# run it again\n",
    "!python main.py"
   ]
  },
  {
   "cell_type": "markdown",
   "metadata": {},
   "source": [
    "Now in pure python with no .kv file...hmmmm...later. "
   ]
  },
  {
   "cell_type": "markdown",
   "metadata": {},
   "source": [
    "## Time to add some kivent\n",
    "We'll go back to the first version of default app. "
   ]
  },
  {
   "cell_type": "code",
   "execution_count": null,
   "metadata": {
    "collapsed": false
   },
   "outputs": [],
   "source": [
    "%%file main.py\n",
    "from kivy.app import App\n",
    "from kivy.uix.widget import Widget\n",
    "import kivent_core ## add this import statement to kivent\n",
    "\n",
    "class TestGame(Widget):\n",
    "    pass\n",
    "\n",
    "class YourAppNameApp(App):\n",
    "    def build(self):\n",
    "        pass\n",
    "    \n",
    "if __name__ == '__main__':\n",
    "    YourAppNameApp().run()"
   ]
  },
  {
   "cell_type": "markdown",
   "metadata": {},
   "source": [
    "First add the `GameWorld` Widget that will manage the game data. More specifically, it keeps track of the components and their updates. \n",
    "* Thought: abstraction of entity-component as a rows vs. columns and the update methods of the GameSystem act on the columns. "
   ]
  },
  {
   "cell_type": "code",
   "execution_count": null,
   "metadata": {
    "collapsed": false
   },
   "outputs": [],
   "source": [
    "%%file yourappname.kv\n",
    "#:include debug.kv\n",
    "#:kivy 1.9.0\n",
    "\n",
    "TestGame:\n",
    "\n",
    "<TestGame@Widget>: ## adding @Widget makes this the root widget\n",
    "    gameworld: _gameworld  ##reference to GameWorld id\n",
    "    DebugLabel:\n",
    "        text: \"testgame\"\n",
    "    GameWorld:\n",
    "        id: _gameworld\n",
    "        size_of_gameworld: 100*1024 ## required see explanation\n",
    "        size_of_entity_block: 128 ## required see explanation\n",
    "        system_count: 8 ## max number of GameSystems with components\n",
    "        zones: {'general':10000}\n",
    "        DebugLabel:\n",
    "            text: \"gameworld\""
   ]
  },
  {
   "cell_type": "markdown",
   "metadata": {},
   "source": [
    "We must configure a few options on the GameWorld. `size_of_gameworld` is the number of Kibibytes that will be allocated to hold static component data (the non-python components that have been cythonized extensively). `size_of_entity_block` is the size of the individual blocks (in kibibytes) of the memory pools for the GameWorld's entity memory. `system_count` is the maximum number of GameSystem with components. The size of the entities memory will be sum of the count for all `zones * system_count + 1`. The `zones` dict specifies which regions to reserve in memory and how large to make the regions. This allows you to organize your efficiencies by processing pattern so that our GameSystem can process a more contiguous arrangement of data. To learn more, read the memory handler documentation http://kivent.org/docs/memory_handlers.html."
   ]
  },
  {
   "cell_type": "markdown",
   "metadata": {},
   "source": [
    "Now add the `GameScreenManager` which will handle its Screens interactions with the GameWorld's state management. "
   ]
  },
  {
   "cell_type": "code",
   "execution_count": null,
   "metadata": {
    "collapsed": false
   },
   "outputs": [],
   "source": [
    "%%file yourappname.kv\n",
    "#:include debug.kv\n",
    "#:kivy 1.9.0\n",
    "\n",
    "TestGame:\n",
    "\n",
    "<TestGame>: \n",
    "    gameworld: _gameworld  \n",
    "    DebugLabel:\n",
    "        text: \"testgame\"\n",
    "    GameWorld:\n",
    "        id: _gameworld\n",
    "        gamescreenmanager: _gamescreenmanager ## reference to GameScreenManager id\n",
    "        size_of_gameworld: 100*1024 ## number of Kibibytes allocated for the GameWorld to hold component data\n",
    "        size_of_entity_block: 128 ## kibibytes set aside for each entity\n",
    "        system_count: 8 ## max number of components\n",
    "        zones: {'general':10000} # regions to reserve in memory and how large to make the regions\n",
    "        DebugLabel:\n",
    "            text: \"gameworld\"\n",
    "    GameScreenManager:\n",
    "        id: _gamescreenmanager\n",
    "        size: root.size\n",
    "        pos: root.pos\n",
    "        gameworld: _gameworld\n",
    "        GameScreen:\n",
    "            name:'main'\n"
   ]
  },
  {
   "cell_type": "markdown",
   "metadata": {},
   "source": [
    "Now for the python part. \n",
    "\n",
    "When creating a GameWorld, we need to first call `init_gameworld` to finalize memory allocation and help us avoid kv creation races within our GameWorld widget tree. The first argument in this function is a list of the `system_ids` for GameSystems we need to ensure have finished their initialization before commencing the `init_gameworld` function. The callback argument allows you to set a function to be called after the initialization has finished. We will make use of that callback here:"
   ]
  },
  {
   "cell_type": "code",
   "execution_count": null,
   "metadata": {
    "collapsed": false
   },
   "outputs": [],
   "source": [
    "%%file main.py\n",
    "from kivy.app import App\n",
    "from kivy.uix.widget import Widget\n",
    "import kivent_core ## add this import statement to kivent\n",
    "\n",
    "class TestGame(Widget):\n",
    "    def __init__(self, **kwargs):\n",
    "        super(TestGame, self).__init__(**kwargs)\n",
    "        self.gameworld.init_gameworld([], callback = self.init_game)\n",
    "\n",
    "    def init_game(self):\n",
    "        self.setup_states()\n",
    "        self.set_state()\n",
    "\n",
    "    def setup_states(self):\n",
    "        self.gameworld.add_state(state_name='main',\n",
    "                                 systems_added = [],\n",
    "                                 systems_removed = [],\n",
    "                                 systems_paused = [],\n",
    "                                 systems_unpaused = [],\n",
    "                                 screenmanager_screen = 'main')\n",
    "    def set_state(self):\n",
    "        self.gameworld.state = 'main'\n",
    "\n",
    "\n",
    "class YourAppNameApp(App):\n",
    "    def build(self):\n",
    "        pass\n",
    "\n",
    "if __name__ == '__main__':\n",
    "    YourAppNameApp().run()\n"
   ]
  },
  {
   "cell_type": "markdown",
   "metadata": {},
   "source": [
    "To check if things are working correctly, go ahead and run your code. Your screen output should still look the same, **but** now now you will get kivent logs with information telling you how much space has been allocated for your game: \n",
    "\n",
    "    [INFO              ] [KivEnt      ] Vertex Format: vertex_format_4f registered. Size per vertex is: 16. Format is [('pos', 2, 'float', 0, False), ('uvs', 2, 'float', 8, False)].\n",
    "    [INFO              ] [KivEnt      ] Vertex Format: vertex_format_7f registered. Size per vertex is: 28. Format is [('pos', 2, 'float', 0, False), ('uvs', 2, 'float', 8, False), ('rot', 1, 'float', 16, False), ('center', 2, 'float', 20, False)].\n",
    "    [INFO              ] [KivEnt      ] Vertex Format: vertex_format_4f4ub registered. Size per vertex is: 20. Format is [('pos', 2, 'float', 0, False), ('uvs', 2, 'float', 8, False), ('vColor', 4, 'ubyte', 16, True)].\n",
    "    [INFO              ] [KivEnt      ] Model Manager reserved space for vertex format: vertex_format_4f. 75 KiB was reserved for vertices, fitting a total of 4800. 25 KiB was reserved for indices fitting a total of 12800.\n",
    "    [INFO              ] [KivEnt      ] Model Manager reserved space for vertex format: vertex_format_7f. 75 KiB was reserved for vertices, fitting a total of 2742. 25 KiB was reserved for indices fitting a total of 12800.\n",
    "    [INFO              ] [KivEnt      ] Model Manager reserved space for vertex format: vertex_format_4f4ub. 75 KiB was reserved for vertices, fitting a total of 3840. 25 KiB was reserved for indices fitting a total of 12800.\n",
    "    [INFO              ] [KivEnt      ] We will need 684 KiB for game, we have 102400 KiB\n",
    "    \n",
    "In particular: \n",
    "\n",
    "    [INFO              ] [KivEnt      ] We will need 684 KiB for game, we have 102400 KiB\n",
    "    \n",
    "gives the total space we have reserved for our game, and the amount that we are actually using between all initialized GameSystems and the entity array itself. While not a count of the total memory your app will consume, as any python logic and the interpreter itself will take up a significant amount of memory as well, but it will help you reason about the size of the data your game logic is introducing and processing. This will ensure we do a minimum amount of memory allocation as a result of the game logic we will be introducing. Here we see only the amount of memory that will be required to hold 10,000 entities with 8 components each in the entities array.\n",
    "\n",
    "    [INFO   ] [KivEnt      ] We will need 384 KiB for game, we have 102400 KiB\n"
   ]
  },
  {
   "cell_type": "code",
   "execution_count": null,
   "metadata": {
    "collapsed": true
   },
   "outputs": [],
   "source": [
    "# insert screen output here"
   ]
  },
  {
   "cell_type": "code",
   "execution_count": null,
   "metadata": {
    "collapsed": false
   },
   "outputs": [],
   "source": [
    "#!python main.py"
   ]
  },
  {
   "cell_type": "markdown",
   "metadata": {},
   "source": [
    "## Actually adding GameSystems\n",
    "http://www.kivent.org/docs/gamesystems.html\n",
    "\n",
    "### Position System\n",
    "http://www.kivent.org/docs/gamesystems.html#position-systems\n",
    "We'll start by adding the position system component. We'll use the class PositionSystem2D. PositionSystem2D abstracts 2 dimensional position data out into its own system so that all other GameSystem can interact with the position of an Entity without having to know specifically about anything under the hood used to determine the actual position. This GameSystem does no processing of its own, it just holds data.\n",
    "\n",
    "#### Setting up the PositionSystem2D\n",
    "\n",
    "When we declare the PositionSystem2D, we give it a `system_id`, which is the 'name' of its component, and a zones list, which tells the GameWorld how to allocate the memory for this GameSystem, the count for each zone name in the list will be reserved for this system, making the maximum number of entities that can be supported by this GameSystem the sum of the counts for each zone name."
   ]
  },
  {
   "cell_type": "code",
   "execution_count": null,
   "metadata": {
    "collapsed": true
   },
   "outputs": [],
   "source": [
    "%%file yourappname.kv\n",
    "#:include debug.kv\n",
    "#:kivy 1.9.0\n",
    "\n",
    "TestGame:\n",
    "\n",
    "<TestGame>:\n",
    "    gameworld: _gameworld\n",
    "    DebugLabel:\n",
    "        text: \"testgame\"\n",
    "    GameWorld:\n",
    "        id: _gameworld\n",
    "        gamescreenmanager: _gamescreenmanager ## reference to GameScreenManager id\n",
    "        size_of_gameworld: 100*1024 ## number of Kibibytes allocated for the GameWorld to hold component data\n",
    "        size_of_entity_block: 128 ## kibibytes set aside for each entity\n",
    "        system_count: 8 ## max number of components\n",
    "        zones: {'general':10000} # regions to reserve in memory and how large to make the regions\n",
    "        DebugLabel:\n",
    "            text: \"gameworld\"\n",
    "        PositionSystem2D:\n",
    "            system_id: 'position'\n",
    "            gameworld: _gameworld\n",
    "            zones: ['general']\n",
    "            size_of_component_block: 128\n",
    "\n",
    "    GameScreenManager:\n",
    "        id: _gamescreenmanager\n",
    "        size: root.size\n",
    "        pos: root.pos\n",
    "        gameworld: _gameworld\n",
    "        GameScreen:\n",
    "            name:'main'"
   ]
  },
  {
   "cell_type": "markdown",
   "metadata": {},
   "source": [
    "And add the corresponding initialization of the position system in `main.py`. "
   ]
  },
  {
   "cell_type": "code",
   "execution_count": null,
   "metadata": {
    "collapsed": true
   },
   "outputs": [],
   "source": [
    "%%file main.py\n",
    "from kivy.app import App\n",
    "from kivy.uix.widget import Widget\n",
    "import kivent_core ## add this import statement to kivent\n",
    "\n",
    "class TestGame(Widget):\n",
    "    def __init__(self, **kwargs):\n",
    "        super(TestGame, self).__init__(**kwargs)\n",
    "        ## add the position system to the gameworld initialization\n",
    "        self.gameworld.init_gameworld(['position'], callback = self.init_game)\n",
    "\n",
    "    def init_game(self):\n",
    "        self.setup_states()\n",
    "        self.set_state()\n",
    "\n",
    "    def setup_states(self):\n",
    "        self.gameworld.add_state(state_name='main',\n",
    "                                 systems_added = [],\n",
    "                                 systems_removed = [],\n",
    "                                 systems_paused = [],\n",
    "                                 systems_unpaused = [],\n",
    "                                 screenmanager_screen = 'main')\n",
    "    def set_state(self):\n",
    "        self.gameworld.state = 'main'\n",
    "\n",
    "\n",
    "class YourAppNameApp(App):\n",
    "    def build(self):\n",
    "        pass\n",
    "\n",
    "if __name__ == '__main__':\n",
    "    YourAppNameApp().run()\n"
   ]
  },
  {
   "cell_type": "markdown",
   "metadata": {},
   "source": [
    "## Renderer System\n",
    "\n",
    "### Setting up a Renderer\n",
    "\n",
    "    class kivent_core.systems.renderers.Renderer(**kwargs)\n",
    "    \n",
    "We will make this renderer static as we are using it to draw immobile background sprites. This is accomplished by setting the `frame_count` to 1 and updateable to `False`. `size_of_batches` controls the size of each batch submission to the GPU, Unity3d guys have recommended 1 Mib to 4 Mib sizes, here I have set it to 128 Kib. Finally we link our shader using `shader_source`.\n",
    "\n"
   ]
  },
  {
   "cell_type": "code",
   "execution_count": null,
   "metadata": {
    "collapsed": true
   },
   "outputs": [],
   "source": []
  },
  {
   "cell_type": "code",
   "execution_count": null,
   "metadata": {
    "collapsed": true
   },
   "outputs": [],
   "source": [
    "%load yourappname.kv"
   ]
  },
  {
   "cell_type": "code",
   "execution_count": null,
   "metadata": {
    "collapsed": true
   },
   "outputs": [],
   "source": [
    "%load main.py"
   ]
  },
  {
   "cell_type": "code",
   "execution_count": null,
   "metadata": {
    "collapsed": false
   },
   "outputs": [],
   "source": [
    "!python main.py"
   ]
  },
  {
   "cell_type": "code",
   "execution_count": null,
   "metadata": {
    "collapsed": true
   },
   "outputs": [],
   "source": []
  }
 ],
 "metadata": {
  "kernelspec": {
   "display_name": "Python 2",
   "language": "python",
   "name": "python2"
  },
  "language_info": {
   "codemirror_mode": {
    "name": "ipython",
    "version": 2
   },
   "file_extension": ".py",
   "mimetype": "text/x-python",
   "name": "python",
   "nbconvert_exporter": "python",
   "pygments_lexer": "ipython2",
   "version": "2.7.11"
  }
 },
 "nbformat": 4,
 "nbformat_minor": 0
}
